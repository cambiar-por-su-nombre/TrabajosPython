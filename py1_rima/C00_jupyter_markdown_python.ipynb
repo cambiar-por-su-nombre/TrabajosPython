{
  "nbformat": 4,
  "nbformat_minor": 0,
  "metadata": {
    "kernelspec": {
      "display_name": "Python 3",
      "language": "python",
      "name": "python3"
    },
    "language_info": {
      "codemirror_mode": {
        "name": "ipython",
        "version": 3
      },
      "file_extension": ".py",
      "mimetype": "text/x-python",
      "name": "python",
      "nbconvert_exporter": "python",
      "pygments_lexer": "ipython3",
      "version": "3.7.4"
    },
    "colab": {
      "name": "C00_jupyter_markdown_python.ipynb",
      "provenance": [],
      "include_colab_link": true
    }
  },
  "cells": [
    {
      "cell_type": "markdown",
      "metadata": {
        "id": "view-in-github",
        "colab_type": "text"
      },
      "source": [
        "<a href=\"https://colab.research.google.com/github/GerardoMunoz-UD/TrabajosPython/blob/main/py1_rima/C00_jupyter_markdown_python.ipynb\" target=\"_parent\"><img src=\"https://colab.research.google.com/assets/colab-badge.svg\" alt=\"Open In Colab\"/></a>"
      ]
    },
    {
      "cell_type": "markdown",
      "metadata": {
        "id": "sIDdsJB9AfQj"
      },
      "source": [
        "# Universidad Distrital F. J. C.\n",
        "## Facultad De Ingeniería\n",
        "### Programación Aplicada\n",
        "#### Gerardo Muñoz\n",
        "gmunoz@udistrital.edu.co"
      ]
    },
    {
      "cell_type": "markdown",
      "metadata": {
        "id": "cwTu8ptwAfQn"
      },
      "source": [
        "<!-- De acuerdo con lo que veo en Condor:\n",
        "*\tEl 35% del primer corte ya está definido.\n",
        "*\tEl 30% del laboratorio lo asigna el profesor de la práctica.\n",
        "*\tEl 35% de la nota del curso se propone definir de la siguiente manera:\n",
        "  *\t20% Participación en clase en el chat de Discord.\n",
        "  *\t15% Examen.\n",
        "  \n",
        "La participación se realiza haciendo un aporte al tema expuesto en la clase. Por ejemplo:\n",
        "*\tPuede dar un ejemplo del tema visto donde se produzca un error y como se corrige. Si varios estudiantes tienen el mismo error en el mismo tema, tienen menor nota.\n",
        "*\tPueden complementar la presentación del profesor con opciones o variaciones que no fueron explicadas de alguna función explicada en clase. (En Python abundan estas opciones)\n",
        "*\tSi se indica en la clase, puede modificar la aplicación presentada.\n",
        "*\tOtra opción que sea pertinente.\n",
        "\n",
        "Se espera un mínimo de una participación pertinente por cada clase de febrero para sacar 5.0. \n",
        "\n",
        "En estos momentos estoy configurando un servidor en Discord con los chats, para realizar las participaciones en clase. \n",
        "\n",
        "A cualquier hora pueden escribirme al correo gmunoz@udistrital.edu.co. Usualmente respondo en las primeras 24 horas. -->"
      ]
    },
    {
      "cell_type": "markdown",
      "metadata": {
        "id": "phUAaumdAfQp"
      },
      "source": [
        "# Introducción al curso de Programación Aplicada\n"
      ]
    },
    {
      "cell_type": "markdown",
      "metadata": {
        "id": "TgrfnpOwAfQq"
      },
      "source": [
        "# Jupyter\n",
        "\n",
        "Un cuaderno de Jupyter tiene celdas de **texto** y celdas de **código**. En la nube vamos a usar:\n",
        "\n",
        "http://colab.research.google.com/notebooks/intro.ipynb\n",
        "\n",
        "También es posible instalar Jupyter en su computador cuando se instala Python. \n",
        "\n",
        "Las celdas de texto usan el formato Markdown. "
      ]
    },
    {
      "cell_type": "markdown",
      "metadata": {
        "id": "Camv2-4rAfQr"
      },
      "source": [
        "### Ejercicio\n",
        "1. Abrir un cuaderno de Jupyter en Google Colab.\n",
        "2. Escribir una operación en la celda de código. `1 + 1`\n",
        "3. Ejecutar la operación con el triángulo de la izquierda.\n",
        "4. Crear una nueva celda de texto.\n",
        "5. Escribir en la nueva celda el título `# Título`.\n",
        "6. Crear otra celda, pero de código.\n",
        "7. Escribir en esta otra celda la operación `0/0`.\n",
        "8. Ejecutar esta otra celda."
      ]
    },
    {
      "cell_type": "code",
      "metadata": {
        "id": "AcaU-lpvAfQs",
        "outputId": "f1a111a2-b8d1-483e-a97e-abfd476c62a8"
      },
      "source": [
        "1+1"
      ],
      "execution_count": null,
      "outputs": [
        {
          "output_type": "execute_result",
          "data": {
            "text/plain": [
              "2"
            ]
          },
          "metadata": {
            "tags": []
          },
          "execution_count": 1
        }
      ]
    },
    {
      "cell_type": "markdown",
      "metadata": {
        "id": "bBqHtLrWAfQt"
      },
      "source": [
        "# Título"
      ]
    },
    {
      "cell_type": "code",
      "metadata": {
        "id": "GzC8jwoLAfQu",
        "outputId": "c84b4ab1-2bec-4b96-f20b-d3ac13fe3c2a"
      },
      "source": [
        "0/0"
      ],
      "execution_count": null,
      "outputs": [
        {
          "output_type": "error",
          "ename": "ZeroDivisionError",
          "evalue": "division by zero",
          "traceback": [
            "\u001b[1;31m---------------------------------------------------------------------------\u001b[0m",
            "\u001b[1;31mZeroDivisionError\u001b[0m                         Traceback (most recent call last)",
            "\u001b[1;32m<ipython-input-2-9ab73e148374>\u001b[0m in \u001b[0;36m<module>\u001b[1;34m\u001b[0m\n\u001b[1;32m----> 1\u001b[1;33m \u001b[1;36m0\u001b[0m\u001b[1;33m/\u001b[0m\u001b[1;36m0\u001b[0m\u001b[1;33m\u001b[0m\u001b[1;33m\u001b[0m\u001b[0m\n\u001b[0m",
            "\u001b[1;31mZeroDivisionError\u001b[0m: division by zero"
          ]
        }
      ]
    },
    {
      "cell_type": "code",
      "metadata": {
        "id": "C8UsjxEfAfQu",
        "outputId": "18e429cb-8e6a-4a11-bc1f-9802b19f115b"
      },
      "source": [
        "0=0"
      ],
      "execution_count": null,
      "outputs": [
        {
          "output_type": "error",
          "ename": "SyntaxError",
          "evalue": "can't assign to literal (<ipython-input-3-6baa06a40030>, line 1)",
          "traceback": [
            "\u001b[1;36m  File \u001b[1;32m\"<ipython-input-3-6baa06a40030>\"\u001b[1;36m, line \u001b[1;32m1\u001b[0m\n\u001b[1;33m    0=0\u001b[0m\n\u001b[1;37m       ^\u001b[0m\n\u001b[1;31mSyntaxError\u001b[0m\u001b[1;31m:\u001b[0m can't assign to literal\n"
          ]
        }
      ]
    },
    {
      "cell_type": "code",
      "metadata": {
        "id": "I8ESh2xSAfQv",
        "outputId": "882c4946-835a-402a-9de4-b78ee2808213"
      },
      "source": [
        "*0"
      ],
      "execution_count": null,
      "outputs": [
        {
          "output_type": "error",
          "ename": "SyntaxError",
          "evalue": "can't use starred expression here (<ipython-input-4-38343ff34e44>, line 4)",
          "traceback": [
            "\u001b[1;36m  File \u001b[1;32m\"<ipython-input-4-38343ff34e44>\"\u001b[1;36m, line \u001b[1;32m4\u001b[0m\n\u001b[1;31mSyntaxError\u001b[0m\u001b[1;31m:\u001b[0m can't use starred expression here\n"
          ]
        }
      ]
    },
    {
      "cell_type": "markdown",
      "metadata": {
        "id": "OkFSMjY1AfQx"
      },
      "source": [
        "# Markdown\n",
        "\n",
        "\n",
        "En Markdown se pueden colocar diferentes niveles de subtítulos como los siguientes:\n",
        "\n",
        "## Título 2\n",
        "###### Título 6\n",
        "\n",
        "También se puede usar letra *itálica* y se puede escribir _también así_. De manera análoga se define la letra **negrilla** __de dos formas__\n",
        "\n",
        "\n",
        "Se pueden colocar viñetas de diferentes niveles\n",
        "* Nivel 1 ítem a\n",
        "  * Nivel 2 ítem b \n",
        "  * Nivel 2 ítem c \n",
        "* Nivel 1 ítem d\n",
        "  * Nivel 2 ítem e \n",
        "    * Nivel 3 ítem f \n",
        "\n",
        "Al igual que  listas numeradas    \n",
        "1. Nivel 1 ítem a\n",
        "  1. Nivel 2 ítem b \n",
        "  1. Nivel 2 ítem c \n",
        "1. Nivel 1 ítem d\n",
        "  1. Nivel 2 ítem e \n",
        "    1. Nivel 3 ítem f \n",
        "\n",
        "\n",
        "También es posible colocar `código`, En particular vamos a ver el código que generó esta sección.\n",
        "\n",
        "```\n",
        "En Markdown se pueden colocar diferentes niveles de subtítulos como los siguientes:\n",
        "\n",
        "## Título 2\n",
        "###### Título 6\n",
        "\n",
        "También se puede usar letra *itálica* y se puede escribir _también así_. De manera análoga se define la letra **negrilla** __de dos formas__\n",
        "\n",
        "\n",
        "Se pueden colocar viñetas de diferentes niveles\n",
        "* Nivel 1 ítem a\n",
        "  * Nivel 2 ítem b \n",
        "  * Nivel 2 ítem c \n",
        "* Nivel 1 ítem d\n",
        "  * Nivel 2 ítem e \n",
        "    * Nivel 3 ítem f \n",
        "\n",
        "Al igual que listas numeradas    \n",
        "1. Nivel 1 ítem a\n",
        "  1. Nivel 2 ítem b \n",
        "  1. Nivel 2 ítem c \n",
        "1. Nivel 1 ítem d\n",
        "  1. Nivel 2 ítem e \n",
        "    1. Nivel 3 ítem f \n",
        "```"
      ]
    },
    {
      "cell_type": "markdown",
      "metadata": {
        "id": "Qx5UWHoRAfQz"
      },
      "source": [
        "# Introducción\n",
        "\n",
        "## ¿Por qué usar Python?\n",
        "\n",
        "* Lenguaje sencillo y fácil de entender\n",
        "* Tiene librerías poderosas:\n",
        "  *  `numpy` para procesamiento de arreglos \n",
        "  *  `matplotlib` para graficar\n",
        "  *  `scikit-learn` para aprendizaje por máquinas\n",
        "  *  `keras` para aprendizaje profundo\n",
        "  *  `opencv` para procesamiento de imágenes\n",
        "  *  `sympy` para procesamiento simbólico\n",
        "  *  `flask` y `django` para desarrollo Web.\n",
        "  *  entre muchas otras.\n",
        "* Usado en tarjetas para IoT\n",
        "\n",
        "## ¿Cuáles características tiene Python?\n",
        "* Interpretado, no compilado \n",
        "* Abundancia de documentación y tutoriales. Además, cuenta con la función `help(...)`.     \n",
        "* Muy eficiente en el desarrollo de prototipos. \n",
        "* Programas extensos requieren herramientas adicionales para depurar.\n"
      ]
    },
    {
      "cell_type": "markdown",
      "metadata": {
        "id": "98tOsw1TAfQ0"
      },
      "source": [
        "# Python\n",
        "\n",
        "\n",
        "## Tipos numéricos\n",
        "### `int`. Ejemplos: `0`, `1`, `-2`.\n",
        "### `float`. Ejemplos: `0.0`, `1.0`, `-2.0`, `3.14`, `0.05`, `3.08e-5`,`-5e4`.\n",
        "### Operaciones: `+`, `-`, `*`,`**` , `/`, `//`, `%` "
      ]
    },
    {
      "cell_type": "code",
      "metadata": {
        "id": "PjhdMjW2AfQ1",
        "outputId": "a50dd941-0e68-4d32-9536-37580386052f"
      },
      "source": [
        "2**3"
      ],
      "execution_count": null,
      "outputs": [
        {
          "output_type": "execute_result",
          "data": {
            "text/plain": [
              "8"
            ]
          },
          "metadata": {
            "tags": []
          },
          "execution_count": 5
        }
      ]
    },
    {
      "cell_type": "code",
      "metadata": {
        "id": "v4jtgi6uAfQ2",
        "outputId": "e7be9462-f3e8-451c-809d-9a268cb3df7a"
      },
      "source": [
        "13//4"
      ],
      "execution_count": null,
      "outputs": [
        {
          "output_type": "execute_result",
          "data": {
            "text/plain": [
              "3"
            ]
          },
          "metadata": {
            "tags": []
          },
          "execution_count": 6
        }
      ]
    },
    {
      "cell_type": "code",
      "metadata": {
        "id": "huWaiyazAfQ2",
        "outputId": "c087cf1a-1f30-4c27-b85f-d1acef046094"
      },
      "source": [
        "13%4"
      ],
      "execution_count": null,
      "outputs": [
        {
          "output_type": "execute_result",
          "data": {
            "text/plain": [
              "1"
            ]
          },
          "metadata": {
            "tags": []
          },
          "execution_count": 7
        }
      ]
    },
    {
      "cell_type": "markdown",
      "metadata": {
        "id": "uAiiBHbpAfQ4"
      },
      "source": [
        "### `bool`: `True`, `False`.\n",
        "### Comparadores: `<`,`>`,`<=`,`>=`,`==`,`!=`"
      ]
    },
    {
      "cell_type": "code",
      "metadata": {
        "id": "EZ5LkxE2AfQ4",
        "outputId": "4bcfd2ea-bcc5-47e1-c0f9-7c7e02d65ba9"
      },
      "source": [
        "1<1"
      ],
      "execution_count": null,
      "outputs": [
        {
          "output_type": "execute_result",
          "data": {
            "text/plain": [
              "False"
            ]
          },
          "metadata": {
            "tags": []
          },
          "execution_count": 8
        }
      ]
    },
    {
      "cell_type": "code",
      "metadata": {
        "id": "O0I7jlofAfQ5",
        "outputId": "0b0063fc-7ffd-4805-c459-4a0eaa67f86b"
      },
      "source": [
        "1<=1"
      ],
      "execution_count": null,
      "outputs": [
        {
          "output_type": "execute_result",
          "data": {
            "text/plain": [
              "True"
            ]
          },
          "metadata": {
            "tags": []
          },
          "execution_count": 9
        }
      ]
    },
    {
      "cell_type": "code",
      "metadata": {
        "id": "7pGgSK4lAfQ5",
        "outputId": "cad66779-da41-4987-9667-142e5a4c6c9e"
      },
      "source": [
        "1==1"
      ],
      "execution_count": null,
      "outputs": [
        {
          "output_type": "execute_result",
          "data": {
            "text/plain": [
              "True"
            ]
          },
          "metadata": {
            "tags": []
          },
          "execution_count": 10
        }
      ]
    },
    {
      "cell_type": "code",
      "metadata": {
        "id": "a_EsCc2DAfQ6",
        "outputId": "2c37a219-27a5-4330-dd40-a855655b99b6"
      },
      "source": [
        "1!=1"
      ],
      "execution_count": null,
      "outputs": [
        {
          "output_type": "execute_result",
          "data": {
            "text/plain": [
              "False"
            ]
          },
          "metadata": {
            "tags": []
          },
          "execution_count": 11
        }
      ]
    },
    {
      "cell_type": "markdown",
      "metadata": {
        "id": "4qtVHESwAfQ7"
      },
      "source": [
        "### Operaciones: `and`,`or`,`not`"
      ]
    },
    {
      "cell_type": "code",
      "metadata": {
        "id": "GoFVHyDVAfQ7",
        "outputId": "9ca08e4a-c0d7-496f-80e2-3f17fd277adb"
      },
      "source": [
        "1<2 and 2<1"
      ],
      "execution_count": null,
      "outputs": [
        {
          "output_type": "execute_result",
          "data": {
            "text/plain": [
              "False"
            ]
          },
          "metadata": {
            "tags": []
          },
          "execution_count": 12
        }
      ]
    },
    {
      "cell_type": "code",
      "metadata": {
        "id": "8j_h9_nKAfQ8",
        "outputId": "07203549-9d31-4bcc-80d3-aa24b1b8281e"
      },
      "source": [
        "1<2 or 2<1"
      ],
      "execution_count": null,
      "outputs": [
        {
          "output_type": "execute_result",
          "data": {
            "text/plain": [
              "True"
            ]
          },
          "metadata": {
            "tags": []
          },
          "execution_count": 13
        }
      ]
    },
    {
      "cell_type": "code",
      "metadata": {
        "id": "KEJF8kOBAfQ9",
        "outputId": "7789ab1e-8180-42bd-e0cc-137151a0e3f7"
      },
      "source": [
        "1<2 and not(2<1)"
      ],
      "execution_count": null,
      "outputs": [
        {
          "output_type": "execute_result",
          "data": {
            "text/plain": [
              "True"
            ]
          },
          "metadata": {
            "tags": []
          },
          "execution_count": 14
        }
      ]
    },
    {
      "cell_type": "markdown",
      "metadata": {
        "id": "8Qgg4FM6AfQ9"
      },
      "source": [
        "### Algunas funciones incorporadas de Python: `abs(x)`, `max(x,y)`, `min(x,y)`, `pow(x,y)`, `round(x,n)`"
      ]
    },
    {
      "cell_type": "code",
      "metadata": {
        "id": "dCEgO7PPAfQ-",
        "outputId": "01b7c579-6dad-4b96-b5c7-73d41bbc7388"
      },
      "source": [
        "max(3,6,2)"
      ],
      "execution_count": null,
      "outputs": [
        {
          "output_type": "execute_result",
          "data": {
            "text/plain": [
              "6"
            ]
          },
          "metadata": {
            "tags": []
          },
          "execution_count": 15
        }
      ]
    },
    {
      "cell_type": "markdown",
      "metadata": {
        "id": "sBH12pKOAfQ-"
      },
      "source": [
        "## Variables"
      ]
    },
    {
      "cell_type": "code",
      "metadata": {
        "id": "Ng5J4TOhAfQ_",
        "outputId": "c7b1317c-bb30-41ca-d575-288dce065e7a"
      },
      "source": [
        "a=5\n",
        "a"
      ],
      "execution_count": null,
      "outputs": [
        {
          "output_type": "execute_result",
          "data": {
            "text/plain": [
              "5"
            ]
          },
          "metadata": {
            "tags": []
          },
          "execution_count": 16
        }
      ]
    },
    {
      "cell_type": "code",
      "metadata": {
        "id": "lHXMCkGzAfQ_",
        "outputId": "ab1fcc86-4111-45a9-a277-7de2308be459"
      },
      "source": [
        "b=6\n",
        "b"
      ],
      "execution_count": null,
      "outputs": [
        {
          "output_type": "execute_result",
          "data": {
            "text/plain": [
              "6"
            ]
          },
          "metadata": {
            "tags": []
          },
          "execution_count": 17
        }
      ]
    },
    {
      "cell_type": "code",
      "metadata": {
        "id": "jFkPl_X-AfRA",
        "outputId": "b7e00d75-6f4b-4d65-c7f7-9fed6144886c"
      },
      "source": [
        "b>a"
      ],
      "execution_count": null,
      "outputs": [
        {
          "output_type": "execute_result",
          "data": {
            "text/plain": [
              "True"
            ]
          },
          "metadata": {
            "tags": []
          },
          "execution_count": 18
        }
      ]
    },
    {
      "cell_type": "code",
      "metadata": {
        "id": "45Z4O6ETAfRB",
        "outputId": "68e2c93a-bea2-4e63-c1a1-97640f321b61"
      },
      "source": [
        "c = b>a\n",
        "c"
      ],
      "execution_count": null,
      "outputs": [
        {
          "output_type": "execute_result",
          "data": {
            "text/plain": [
              "True"
            ]
          },
          "metadata": {
            "tags": []
          },
          "execution_count": 19
        }
      ]
    },
    {
      "cell_type": "code",
      "metadata": {
        "id": "c36ylTeXAfRB",
        "outputId": "b3f9e1b9-0e89-42d5-a0b1-3029be3947be"
      },
      "source": [
        "numero_de_estrellas_en_el_universo = 1000000000000000000000 + 1\n",
        "numero_de_estrellas_en_el_universo"
      ],
      "execution_count": null,
      "outputs": [
        {
          "output_type": "execute_result",
          "data": {
            "text/plain": [
              "1000000000000000000001"
            ]
          },
          "metadata": {
            "tags": []
          },
          "execution_count": 20
        }
      ]
    },
    {
      "cell_type": "markdown",
      "metadata": {
        "id": "gC-ATn-_AfRC"
      },
      "source": [
        "##  `def`\n",
        "Se utiliza para definir funciones"
      ]
    },
    {
      "cell_type": "code",
      "metadata": {
        "id": "ZeKmezThAfRD",
        "outputId": "ccb13112-7250-4f27-9ede-ac542d6f4fc7"
      },
      "source": [
        "def conv_automoviles_y_ciclas_en_ruedas(numero_de_automoviles,numero_de_ciclas):\n",
        "    numero_de_ruedas = numero_de_automoviles * 4 + numero_de_ciclas * 2\n",
        "    return numero_de_ruedas\n",
        "\n",
        "conv_automoviles_y_ciclas_en_ruedas(3,6)"
      ],
      "execution_count": null,
      "outputs": [
        {
          "output_type": "execute_result",
          "data": {
            "text/plain": [
              "24"
            ]
          },
          "metadata": {
            "tags": []
          },
          "execution_count": 21
        }
      ]
    },
    {
      "cell_type": "code",
      "metadata": {
        "id": "nTvtuvtrAfRD",
        "outputId": "466b2994-7097-4eae-b981-27fe27feab23"
      },
      "source": [
        "conv_automoviles_y_ciclas_en_ruedas(1,0)"
      ],
      "execution_count": null,
      "outputs": [
        {
          "output_type": "execute_result",
          "data": {
            "text/plain": [
              "4"
            ]
          },
          "metadata": {
            "tags": []
          },
          "execution_count": 22
        }
      ]
    },
    {
      "cell_type": "markdown",
      "metadata": {
        "id": "N22HwweSAfRE"
      },
      "source": [
        "## `if`, `elif`, `else`"
      ]
    },
    {
      "cell_type": "markdown",
      "metadata": {
        "id": "wvGyJ8gkAfRE"
      },
      "source": [
        "\n",
        "Aunque Python tiene definida la función de valor absoluto. Se va a definir nuevamente como un ejemplo, algo explícito, de `if`.\n",
        "\n",
        "$abs(a)=\\left\\{\\matrix{a & \\text{ si } a > 0 \\\\0 & \\text{ si } a = 0 \\\\ -a & \\text{ si } a < 0  }\\right.$"
      ]
    },
    {
      "cell_type": "code",
      "metadata": {
        "id": "_t4K1py-AfRG"
      },
      "source": [
        "def valor_absoluto(a):\n",
        "    if a>0:\n",
        "        return a\n",
        "    elif a == 0:\n",
        "        return 0\n",
        "    else:\n",
        "        return -a"
      ],
      "execution_count": null,
      "outputs": []
    },
    {
      "cell_type": "code",
      "metadata": {
        "id": "S_53E76QAfRH",
        "outputId": "546dfb48-290c-4ae8-dd25-1d1e74579aee"
      },
      "source": [
        "valor_absoluto(5.3)"
      ],
      "execution_count": null,
      "outputs": [
        {
          "output_type": "execute_result",
          "data": {
            "text/plain": [
              "5.3"
            ]
          },
          "metadata": {
            "tags": []
          },
          "execution_count": 24
        }
      ]
    },
    {
      "cell_type": "code",
      "metadata": {
        "id": "P_hIiqoiAfRH",
        "outputId": "96f8f027-d870-41b3-99bf-5fe992d4da73"
      },
      "source": [
        "valor_absoluto(-7)"
      ],
      "execution_count": null,
      "outputs": [
        {
          "output_type": "execute_result",
          "data": {
            "text/plain": [
              "7"
            ]
          },
          "metadata": {
            "tags": []
          },
          "execution_count": 25
        }
      ]
    },
    {
      "cell_type": "code",
      "metadata": {
        "id": "p6QdtjVeAfRI",
        "outputId": "9890bcfa-804a-4807-ccfc-ace901af28df"
      },
      "source": [
        "valor_absoluto(-5.6e-8)"
      ],
      "execution_count": null,
      "outputs": [
        {
          "output_type": "execute_result",
          "data": {
            "text/plain": [
              "5.6e-08"
            ]
          },
          "metadata": {
            "tags": []
          },
          "execution_count": 26
        }
      ]
    },
    {
      "cell_type": "markdown",
      "metadata": {
        "id": "iLiLmLEcAfRI"
      },
      "source": [
        "# while"
      ]
    },
    {
      "cell_type": "code",
      "metadata": {
        "id": "186kLlx6AfRJ",
        "outputId": "4bb41cf1-e706-4cbe-f427-8695200f2737"
      },
      "source": [
        "def busca_divisor(num):\n",
        "    if abs(num) <= 1:\n",
        "        return 1\n",
        "    \n",
        "    div = abs(num)-1\n",
        "    while  num%div != 0 :\n",
        "        div = div - 1\n",
        "    return div\n",
        "        \n",
        "busca_divisor(100)"
      ],
      "execution_count": null,
      "outputs": [
        {
          "output_type": "execute_result",
          "data": {
            "text/plain": [
              "50"
            ]
          },
          "metadata": {
            "tags": []
          },
          "execution_count": 27
        }
      ]
    },
    {
      "cell_type": "code",
      "metadata": {
        "id": "EcKIJAf0AfRK",
        "outputId": "f98cd388-5936-49cc-b73d-f85eaca85c00"
      },
      "source": [
        "busca_divisor(2)"
      ],
      "execution_count": null,
      "outputs": [
        {
          "output_type": "execute_result",
          "data": {
            "text/plain": [
              "1"
            ]
          },
          "metadata": {
            "tags": []
          },
          "execution_count": 28
        }
      ]
    },
    {
      "cell_type": "code",
      "metadata": {
        "id": "3v8icwl2AfRK",
        "outputId": "e3d19a22-2254-4ffe-a98b-d00502236ce2"
      },
      "source": [
        "busca_divisor(1)"
      ],
      "execution_count": null,
      "outputs": [
        {
          "output_type": "execute_result",
          "data": {
            "text/plain": [
              "1"
            ]
          },
          "metadata": {
            "tags": []
          },
          "execution_count": 29
        }
      ]
    },
    {
      "cell_type": "code",
      "metadata": {
        "id": "fGPW9C_uAfRN",
        "outputId": "08ddf131-79ac-48b9-f30d-dbe6cb7f7945"
      },
      "source": [
        "busca_divisor(0)"
      ],
      "execution_count": null,
      "outputs": [
        {
          "output_type": "execute_result",
          "data": {
            "text/plain": [
              "1"
            ]
          },
          "metadata": {
            "tags": []
          },
          "execution_count": 30
        }
      ]
    },
    {
      "cell_type": "code",
      "metadata": {
        "id": "A0yjl-2wAfRO",
        "outputId": "60b10183-0ccc-427b-9b33-28c22e69a9fc"
      },
      "source": [
        "busca_divisor(-1)"
      ],
      "execution_count": null,
      "outputs": [
        {
          "output_type": "execute_result",
          "data": {
            "text/plain": [
              "1"
            ]
          },
          "metadata": {
            "tags": []
          },
          "execution_count": 31
        }
      ]
    },
    {
      "cell_type": "code",
      "metadata": {
        "id": "1wcGiZG-AfRO",
        "outputId": "2ed25615-836b-4d33-a07c-18fa37ee15b8"
      },
      "source": [
        "busca_divisor(-2)"
      ],
      "execution_count": null,
      "outputs": [
        {
          "output_type": "execute_result",
          "data": {
            "text/plain": [
              "1"
            ]
          },
          "metadata": {
            "tags": []
          },
          "execution_count": 32
        }
      ]
    },
    {
      "cell_type": "code",
      "metadata": {
        "id": "_qC2Mh12AfRP",
        "outputId": "a245e531-373b-457c-831f-7f88477dd4ca"
      },
      "source": [
        "busca_divisor(-3)"
      ],
      "execution_count": null,
      "outputs": [
        {
          "output_type": "execute_result",
          "data": {
            "text/plain": [
              "1"
            ]
          },
          "metadata": {
            "tags": []
          },
          "execution_count": 33
        }
      ]
    },
    {
      "cell_type": "code",
      "metadata": {
        "id": "p_K5jWKDAfRP",
        "outputId": "5643871d-a65e-4203-c756-9306ba772c6f"
      },
      "source": [
        "busca_divisor(-4)"
      ],
      "execution_count": null,
      "outputs": [
        {
          "output_type": "execute_result",
          "data": {
            "text/plain": [
              "2"
            ]
          },
          "metadata": {
            "tags": []
          },
          "execution_count": 34
        }
      ]
    },
    {
      "cell_type": "markdown",
      "metadata": {
        "id": "YYkfDKbvAfRQ"
      },
      "source": [
        "## `tuple`\n",
        "Una secuencia de datos, separados por coma, forman un tipo de dato llamado tupla (`tuple`), el cual no se puede modificar parcialmente. En algunos casos es recomendable colocar la tupla entre paréntesis."
      ]
    },
    {
      "cell_type": "code",
      "metadata": {
        "id": "kWX2IrnYAfRQ",
        "outputId": "e12d09a8-cd93-42b5-db9b-ae9e4532bcd6"
      },
      "source": [
        "v=11, 22, 35, 44\n",
        "v"
      ],
      "execution_count": null,
      "outputs": [
        {
          "output_type": "execute_result",
          "data": {
            "text/plain": [
              "(11, 22, 35, 44)"
            ]
          },
          "metadata": {
            "tags": []
          },
          "execution_count": 35
        }
      ]
    },
    {
      "cell_type": "code",
      "metadata": {
        "id": "7cX7LHvfAfRR",
        "outputId": "5610066a-f634-48bf-8750-40e2f0e64bfc"
      },
      "source": [
        "v[2]"
      ],
      "execution_count": null,
      "outputs": [
        {
          "output_type": "execute_result",
          "data": {
            "text/plain": [
              "35"
            ]
          },
          "metadata": {
            "tags": []
          },
          "execution_count": 36
        }
      ]
    },
    {
      "cell_type": "code",
      "metadata": {
        "id": "lJtfIIAQAfRR",
        "outputId": "4e75a37f-3e36-434c-981b-5356eb09a344"
      },
      "source": [
        "v[2]=33\n",
        "v"
      ],
      "execution_count": null,
      "outputs": [
        {
          "output_type": "error",
          "ename": "TypeError",
          "evalue": "'tuple' object does not support item assignment",
          "traceback": [
            "\u001b[1;31m---------------------------------------------------------------------------\u001b[0m",
            "\u001b[1;31mTypeError\u001b[0m                                 Traceback (most recent call last)",
            "\u001b[1;32m<ipython-input-37-27cd8a72686d>\u001b[0m in \u001b[0;36m<module>\u001b[1;34m\u001b[0m\n\u001b[1;32m----> 1\u001b[1;33m \u001b[0mv\u001b[0m\u001b[1;33m[\u001b[0m\u001b[1;36m2\u001b[0m\u001b[1;33m]\u001b[0m\u001b[1;33m=\u001b[0m\u001b[1;36m33\u001b[0m\u001b[1;33m\u001b[0m\u001b[1;33m\u001b[0m\u001b[0m\n\u001b[0m\u001b[0;32m      2\u001b[0m \u001b[0mv\u001b[0m\u001b[1;33m\u001b[0m\u001b[1;33m\u001b[0m\u001b[0m\n",
            "\u001b[1;31mTypeError\u001b[0m: 'tuple' object does not support item assignment"
          ]
        }
      ]
    },
    {
      "cell_type": "code",
      "metadata": {
        "id": "vvQPy7pfAfRS",
        "outputId": "ae8fbf38-74e4-42a9-964c-f2ec0890595c"
      },
      "source": [
        "v[-1]"
      ],
      "execution_count": null,
      "outputs": [
        {
          "output_type": "execute_result",
          "data": {
            "text/plain": [
              "44"
            ]
          },
          "metadata": {
            "tags": []
          },
          "execution_count": 38
        }
      ]
    },
    {
      "cell_type": "code",
      "metadata": {
        "scrolled": true,
        "id": "IrMbOwp5AfRT",
        "outputId": "708bc25d-0aa3-40b5-c1c4-3369b51c2656"
      },
      "source": [
        "v[1:3]"
      ],
      "execution_count": null,
      "outputs": [
        {
          "output_type": "execute_result",
          "data": {
            "text/plain": [
              "(22, 35)"
            ]
          },
          "metadata": {
            "tags": []
          },
          "execution_count": 39
        }
      ]
    },
    {
      "cell_type": "code",
      "metadata": {
        "id": "EHuyYXAyAfRT",
        "outputId": "5d57bde4-595e-4d34-a0ee-ae8f142d8853"
      },
      "source": [
        "v[1:]"
      ],
      "execution_count": null,
      "outputs": [
        {
          "output_type": "execute_result",
          "data": {
            "text/plain": [
              "(22, 35, 44)"
            ]
          },
          "metadata": {
            "tags": []
          },
          "execution_count": 40
        }
      ]
    },
    {
      "cell_type": "code",
      "metadata": {
        "id": "TqfXhRHEAfRU",
        "outputId": "9f999299-c540-48c1-c4a5-a5912ea1caff"
      },
      "source": [
        "v[:3]"
      ],
      "execution_count": null,
      "outputs": [
        {
          "output_type": "execute_result",
          "data": {
            "text/plain": [
              "(11, 22, 35)"
            ]
          },
          "metadata": {
            "tags": []
          },
          "execution_count": 41
        }
      ]
    },
    {
      "cell_type": "markdown",
      "metadata": {
        "id": "_A2Co9WdAfRU"
      },
      "source": [
        "La concatenación de dos o más tuplas se realiza con el operador `+`"
      ]
    },
    {
      "cell_type": "code",
      "metadata": {
        "id": "7EhDkvixAfRV",
        "outputId": "57e3d78a-89c4-44ee-e38e-70243572e5ab"
      },
      "source": [
        "(3,4) + (5,7)"
      ],
      "execution_count": null,
      "outputs": [
        {
          "output_type": "execute_result",
          "data": {
            "text/plain": [
              "(3, 4, 5, 7)"
            ]
          },
          "metadata": {
            "tags": []
          },
          "execution_count": 43
        }
      ]
    },
    {
      "cell_type": "code",
      "metadata": {
        "id": "L8i2UWDOAfRW",
        "outputId": "0bd1f967-9cfb-4afc-f58e-ec7c55e4467b"
      },
      "source": [
        "3, 4+5, 7"
      ],
      "execution_count": null,
      "outputs": [
        {
          "output_type": "execute_result",
          "data": {
            "text/plain": [
              "(3, 9, 7)"
            ]
          },
          "metadata": {
            "tags": []
          },
          "execution_count": 44
        }
      ]
    },
    {
      "cell_type": "markdown",
      "metadata": {
        "id": "dOeMAAcGAfRW"
      },
      "source": [
        "Una tupla se puede repetir usando el operador `*`"
      ]
    },
    {
      "cell_type": "code",
      "metadata": {
        "id": "fvN3KUMOAfRW",
        "outputId": "61b7ad26-d900-4db7-9bca-1fb2f0cd79a1"
      },
      "source": [
        "v* 4"
      ],
      "execution_count": null,
      "outputs": [
        {
          "output_type": "execute_result",
          "data": {
            "text/plain": [
              "(11, 22, 35, 44, 11, 22, 35, 44, 11, 22, 35, 44, 11, 22, 35, 44)"
            ]
          },
          "metadata": {
            "tags": []
          },
          "execution_count": 46
        }
      ]
    },
    {
      "cell_type": "markdown",
      "metadata": {
        "id": "O7tk9hujAfRX"
      },
      "source": [
        "## `list`\n",
        "Una tupla (`tuple`) encerrada en corchetes define una lista (`list`) la cual sí permite modificar parcialmente."
      ]
    },
    {
      "cell_type": "code",
      "metadata": {
        "id": "fN7jAUsXAfRX",
        "outputId": "505e74c3-29d8-43ca-994c-cad576ee4554"
      },
      "source": [
        "u=[11, 21, 35, 44]\n",
        "u"
      ],
      "execution_count": null,
      "outputs": [
        {
          "output_type": "execute_result",
          "data": {
            "text/plain": [
              "[11, 21, 35, 44]"
            ]
          },
          "metadata": {
            "tags": []
          },
          "execution_count": 47
        }
      ]
    },
    {
      "cell_type": "markdown",
      "metadata": {
        "id": "IYTjjZZKAfRX"
      },
      "source": [
        "Una de las principales diferencias entre las tuplas y las listas es que la lista se puede modificar (es mutable) pero la tupla no (es inmutable), esto la hace un poco más eficiente."
      ]
    },
    {
      "cell_type": "code",
      "metadata": {
        "id": "yJbUfS7eAfRY",
        "outputId": "84424a55-7993-49f9-d080-03ea840e59eb"
      },
      "source": [
        "u=[11, 22, 35, 44]\n",
        "u"
      ],
      "execution_count": null,
      "outputs": [
        {
          "output_type": "execute_result",
          "data": {
            "text/plain": [
              "[11, 22, 35, 44]"
            ]
          },
          "metadata": {
            "tags": []
          },
          "execution_count": 48
        }
      ]
    },
    {
      "cell_type": "code",
      "metadata": {
        "id": "TO-X647DAfRY",
        "outputId": "4289e3f0-c481-456c-9a2e-36f76dbf1de4"
      },
      "source": [
        "u[2]"
      ],
      "execution_count": null,
      "outputs": [
        {
          "output_type": "execute_result",
          "data": {
            "text/plain": [
              "35"
            ]
          },
          "metadata": {
            "tags": []
          },
          "execution_count": 49
        }
      ]
    },
    {
      "cell_type": "code",
      "metadata": {
        "id": "JM8plkjtAfRY",
        "outputId": "4661cb1a-ff10-4e76-87b1-615afa115257"
      },
      "source": [
        "u[2]=33\n",
        "u"
      ],
      "execution_count": null,
      "outputs": [
        {
          "output_type": "execute_result",
          "data": {
            "text/plain": [
              "[11, 22, 33, 44]"
            ]
          },
          "metadata": {
            "tags": []
          },
          "execution_count": 50
        }
      ]
    },
    {
      "cell_type": "code",
      "metadata": {
        "id": "9XIxJJ11AfRZ",
        "outputId": "acf5642f-4349-48d2-85f4-10e374c730b6"
      },
      "source": [
        "u[-1]"
      ],
      "execution_count": null,
      "outputs": [
        {
          "output_type": "execute_result",
          "data": {
            "text/plain": [
              "44"
            ]
          },
          "metadata": {
            "tags": []
          },
          "execution_count": 51
        }
      ]
    },
    {
      "cell_type": "code",
      "metadata": {
        "scrolled": true,
        "id": "n8lHwCOhAfRZ",
        "outputId": "3c61b59c-e52a-4029-82d7-4870129cc7da"
      },
      "source": [
        "u[1:3]"
      ],
      "execution_count": null,
      "outputs": [
        {
          "output_type": "execute_result",
          "data": {
            "text/plain": [
              "[22, 33]"
            ]
          },
          "metadata": {
            "tags": []
          },
          "execution_count": 52
        }
      ]
    },
    {
      "cell_type": "code",
      "metadata": {
        "id": "lVTH6G0gAfRZ",
        "outputId": "1e33fb8d-764e-4b87-80aa-db16118ca2f1"
      },
      "source": [
        "u[1:3]=88,99\n",
        "u"
      ],
      "execution_count": null,
      "outputs": [
        {
          "output_type": "execute_result",
          "data": {
            "text/plain": [
              "[11, 88, 99, 44]"
            ]
          },
          "metadata": {
            "tags": []
          },
          "execution_count": 53
        }
      ]
    },
    {
      "cell_type": "code",
      "metadata": {
        "id": "WLoCHCTAAfRa",
        "outputId": "09191701-c526-4e2b-da6c-c563e523ff30"
      },
      "source": [
        "u[1:]"
      ],
      "execution_count": null,
      "outputs": [
        {
          "output_type": "execute_result",
          "data": {
            "text/plain": [
              "[88, 99, 44]"
            ]
          },
          "metadata": {
            "tags": []
          },
          "execution_count": 54
        }
      ]
    },
    {
      "cell_type": "code",
      "metadata": {
        "id": "nl2GH97-AfRa",
        "outputId": "c1cca589-bf26-4ed0-caf6-129d3d39e432"
      },
      "source": [
        "u[:3]"
      ],
      "execution_count": null,
      "outputs": [
        {
          "output_type": "execute_result",
          "data": {
            "text/plain": [
              "[11, 88, 99]"
            ]
          },
          "metadata": {
            "tags": []
          },
          "execution_count": 55
        }
      ]
    },
    {
      "cell_type": "code",
      "metadata": {
        "id": "DwMc95UhAfRa",
        "outputId": "04641e23-8ef5-41f9-d2d3-6814dde81f8b"
      },
      "source": [
        "u+u"
      ],
      "execution_count": null,
      "outputs": [
        {
          "output_type": "execute_result",
          "data": {
            "text/plain": [
              "[11, 88, 99, 44, 11, 88, 99, 44]"
            ]
          },
          "metadata": {
            "tags": []
          },
          "execution_count": 56
        }
      ]
    },
    {
      "cell_type": "code",
      "metadata": {
        "id": "MtaLbI21AfRb",
        "outputId": "25787680-af6f-42fe-fd3e-1c309a739f62"
      },
      "source": [
        "u*4"
      ],
      "execution_count": null,
      "outputs": [
        {
          "output_type": "execute_result",
          "data": {
            "text/plain": [
              "[11, 88, 99, 44, 11, 88, 99, 44, 11, 88, 99, 44, 11, 88, 99, 44]"
            ]
          },
          "metadata": {
            "tags": []
          },
          "execution_count": 57
        }
      ]
    },
    {
      "cell_type": "markdown",
      "metadata": {
        "id": "ZnXrxhhlAfRb"
      },
      "source": [
        "## `str`\n",
        "Una secuencia de caracteres se conoce como una cadena o _string_ (`str`). Esta se define con comillas dobles o sencillas. Este tipo de dato tampoco permite modificar parcialmente"
      ]
    },
    {
      "cell_type": "code",
      "metadata": {
        "id": "xMWcDldOAfRb",
        "outputId": "3c346a6d-51fa-4b59-aee4-dbcdbe8b27b7"
      },
      "source": [
        "texto_1 = \"Usualmente aquí se escribe 'Hola Mundo'\"\n",
        "texto_1"
      ],
      "execution_count": null,
      "outputs": [
        {
          "output_type": "execute_result",
          "data": {
            "text/plain": [
              "\"Usualmente aquí se escribe 'Hola Mundo'\""
            ]
          },
          "metadata": {
            "tags": []
          },
          "execution_count": 58
        }
      ]
    },
    {
      "cell_type": "code",
      "metadata": {
        "id": "7q9jdtNzAfRc",
        "outputId": "7f0a8ee3-4cfc-4247-dd41-dc1a9a10927c"
      },
      "source": [
        "texto_2 = 'Usualmente aquí se escribe \"Hola Mundo\"'\n",
        "texto_2"
      ],
      "execution_count": null,
      "outputs": [
        {
          "output_type": "execute_result",
          "data": {
            "text/plain": [
              "'Usualmente aquí se escribe \"Hola Mundo\"'"
            ]
          },
          "metadata": {
            "tags": []
          },
          "execution_count": 59
        }
      ]
    },
    {
      "cell_type": "code",
      "metadata": {
        "id": "dzS_-6WSAfRc",
        "outputId": "c43ea2e8-c68f-4753-fd89-f430df0dca54"
      },
      "source": [
        "texto_1[11:15]"
      ],
      "execution_count": null,
      "outputs": [
        {
          "output_type": "execute_result",
          "data": {
            "text/plain": [
              "'aquí'"
            ]
          },
          "metadata": {
            "tags": []
          },
          "execution_count": 60
        }
      ]
    },
    {
      "cell_type": "code",
      "metadata": {
        "id": "DF0YkS33AfRc",
        "outputId": "4e01801d-04bd-41fe-d612-8353d877a688"
      },
      "source": [
        "texto_1[11:15]='allá'"
      ],
      "execution_count": null,
      "outputs": [
        {
          "output_type": "error",
          "ename": "TypeError",
          "evalue": "'str' object does not support item assignment",
          "traceback": [
            "\u001b[1;31m---------------------------------------------------------------------------\u001b[0m",
            "\u001b[1;31mTypeError\u001b[0m                                 Traceback (most recent call last)",
            "\u001b[1;32m<ipython-input-61-da9f71756e4a>\u001b[0m in \u001b[0;36m<module>\u001b[1;34m\u001b[0m\n\u001b[1;32m----> 1\u001b[1;33m \u001b[0mtexto_1\u001b[0m\u001b[1;33m[\u001b[0m\u001b[1;36m11\u001b[0m\u001b[1;33m:\u001b[0m\u001b[1;36m15\u001b[0m\u001b[1;33m]\u001b[0m\u001b[1;33m=\u001b[0m\u001b[1;34m'allá'\u001b[0m\u001b[1;33m\u001b[0m\u001b[1;33m\u001b[0m\u001b[0m\n\u001b[0m",
            "\u001b[1;31mTypeError\u001b[0m: 'str' object does not support item assignment"
          ]
        }
      ]
    },
    {
      "cell_type": "code",
      "metadata": {
        "id": "vxWN7qT0AfRd",
        "outputId": "bcffd382-0ded-4d62-fc6f-58b5fcd55447"
      },
      "source": [
        "texto_1[-1]"
      ],
      "execution_count": null,
      "outputs": [
        {
          "output_type": "execute_result",
          "data": {
            "text/plain": [
              "\"'\""
            ]
          },
          "metadata": {
            "tags": []
          },
          "execution_count": 62
        }
      ]
    },
    {
      "cell_type": "markdown",
      "metadata": {
        "id": "Pv7zfhx1AfRd"
      },
      "source": [
        "Para presentar un texto se puede usar la función `print`"
      ]
    },
    {
      "cell_type": "code",
      "metadata": {
        "id": "DrTsdoMuAfRd",
        "outputId": "c075fd06-f754-468e-ccd4-f825adaedfff"
      },
      "source": [
        "print(texto_1)"
      ],
      "execution_count": null,
      "outputs": [
        {
          "output_type": "stream",
          "text": [
            "Usualmente aquí se escribe 'Hola Mundo'\n"
          ],
          "name": "stdout"
        }
      ]
    },
    {
      "cell_type": "code",
      "metadata": {
        "id": "Oc_EsVfQAfRd",
        "outputId": "40f768be-5ce0-44bb-9722-00e22858680d"
      },
      "source": [
        "print(texto_2)"
      ],
      "execution_count": null,
      "outputs": [
        {
          "output_type": "stream",
          "text": [
            "Usualmente aquí se escribe \"Hola Mundo\"\n"
          ],
          "name": "stdout"
        }
      ]
    },
    {
      "cell_type": "markdown",
      "metadata": {
        "id": "xkMMifxCAfRe"
      },
      "source": [
        "Para leer un texto del teclado puede usarse `input`"
      ]
    },
    {
      "cell_type": "code",
      "metadata": {
        "id": "Igd6YSyrAfRf",
        "outputId": "689db97e-77c9-4134-b881-f462cddb3f16"
      },
      "source": [
        "texto_3 = input('Piense un dígito y escríbalo: ')\n",
        "print('El dígito que pensó por 11 es:',texto_3*2)"
      ],
      "execution_count": null,
      "outputs": [
        {
          "output_type": "stream",
          "text": [
            "Piense un dígito y escríbalo: Hola\n",
            "El dígito que pensó por 11 es: HolaHola\n"
          ],
          "name": "stdout"
        }
      ]
    },
    {
      "cell_type": "markdown",
      "metadata": {
        "id": "3njsVPIJAfRg"
      },
      "source": [
        "## `iterable`\n",
        "`tuple`, `list` y `str` son subtipos del tipo de dato `iterable`, sobre el cual se pueden aplicar algunas funciones"
      ]
    },
    {
      "cell_type": "markdown",
      "metadata": {
        "id": "2T0cFyOuAfRh"
      },
      "source": [
        "## `len`\n",
        "La función incorporada de python `len` indica la cantidad de elementos de un iterable"
      ]
    },
    {
      "cell_type": "markdown",
      "metadata": {
        "id": "otIDsw6RAfRh"
      },
      "source": [
        "La función `len` permite conocer la cantidad de elementos de una tupla o una lista"
      ]
    },
    {
      "cell_type": "code",
      "metadata": {
        "id": "OvhtUFK3AfRh",
        "outputId": "305e5321-ca15-453d-bf1f-2673b477ae30"
      },
      "source": [
        "len([2,6,2,7,2,9,2])"
      ],
      "execution_count": null,
      "outputs": [
        {
          "output_type": "execute_result",
          "data": {
            "text/plain": [
              "7"
            ]
          },
          "metadata": {
            "tags": []
          },
          "execution_count": 66
        }
      ]
    },
    {
      "cell_type": "code",
      "metadata": {
        "id": "BjUI4zwGAfRi",
        "outputId": "143339f5-e7a0-429d-d8e4-41e600ba98c7"
      },
      "source": [
        "len((2,6,2,7,2)) # en este caso es necesario encerrar la tupla entre paréntesis para indicar que sólo hay un argumento en la función"
      ],
      "execution_count": null,
      "outputs": [
        {
          "output_type": "execute_result",
          "data": {
            "text/plain": [
              "5"
            ]
          },
          "metadata": {
            "tags": []
          },
          "execution_count": 67
        }
      ]
    },
    {
      "cell_type": "code",
      "metadata": {
        "id": "5KuK7es4AfRi",
        "outputId": "e4f0e79b-675f-48d3-caef-fcd1e0c836eb"
      },
      "source": [
        "len(texto_1)"
      ],
      "execution_count": null,
      "outputs": [
        {
          "output_type": "execute_result",
          "data": {
            "text/plain": [
              "39"
            ]
          },
          "metadata": {
            "tags": []
          },
          "execution_count": 68
        }
      ]
    },
    {
      "cell_type": "markdown",
      "metadata": {
        "id": "JHaB2UZYAfRj"
      },
      "source": [
        "# in \n",
        "Determina si un elemento está en un iterable"
      ]
    },
    {
      "cell_type": "code",
      "metadata": {
        "id": "RDJi0CS1AfRj",
        "outputId": "c9b90d75-ee5f-4aa0-f26c-9753cb77b750"
      },
      "source": [
        "2 in (3,5,6)"
      ],
      "execution_count": null,
      "outputs": [
        {
          "output_type": "execute_result",
          "data": {
            "text/plain": [
              "False"
            ]
          },
          "metadata": {
            "tags": []
          },
          "execution_count": 69
        }
      ]
    },
    {
      "cell_type": "code",
      "metadata": {
        "id": "ApC_O2FcAfRk",
        "outputId": "0603a79b-b724-4f2e-f93e-46f4a28fad8b"
      },
      "source": [
        "5 in [3,5,6]"
      ],
      "execution_count": null,
      "outputs": [
        {
          "output_type": "execute_result",
          "data": {
            "text/plain": [
              "True"
            ]
          },
          "metadata": {
            "tags": []
          },
          "execution_count": 70
        }
      ]
    },
    {
      "cell_type": "code",
      "metadata": {
        "id": "sgHGj5meAfRk",
        "outputId": "33760f27-53bc-4e0e-c4d4-3053f173a342"
      },
      "source": [
        "'l' in 'hola'"
      ],
      "execution_count": null,
      "outputs": [
        {
          "output_type": "execute_result",
          "data": {
            "text/plain": [
              "True"
            ]
          },
          "metadata": {
            "tags": []
          },
          "execution_count": 71
        }
      ]
    },
    {
      "cell_type": "markdown",
      "metadata": {
        "id": "kdqDcP-JAfRl"
      },
      "source": [
        "# `range`\n",
        "La función incorporada de Python `range`, permite generar un rango de números"
      ]
    },
    {
      "cell_type": "code",
      "metadata": {
        "id": "i4rndp3gAfRl",
        "outputId": "c5bce2d5-c8a2-4541-f9c5-0e3a34166550"
      },
      "source": [
        "list(range(3))"
      ],
      "execution_count": null,
      "outputs": [
        {
          "output_type": "execute_result",
          "data": {
            "text/plain": [
              "[0, 1, 2]"
            ]
          },
          "metadata": {
            "tags": []
          },
          "execution_count": 72
        }
      ]
    },
    {
      "cell_type": "code",
      "metadata": {
        "id": "81TzaQYTAfRm",
        "outputId": "a0f6ebb5-c112-44a3-883c-3fd9f57542ed"
      },
      "source": [
        "tuple(range(10))"
      ],
      "execution_count": null,
      "outputs": [
        {
          "output_type": "execute_result",
          "data": {
            "text/plain": [
              "(0, 1, 2, 3, 4, 5, 6, 7, 8, 9)"
            ]
          },
          "metadata": {
            "tags": []
          },
          "execution_count": 73
        }
      ]
    },
    {
      "cell_type": "code",
      "metadata": {
        "id": "g7jZspVnAfRn",
        "outputId": "81316701-13aa-4425-e2cb-91ccd7ad1131"
      },
      "source": [
        "tuple(range(2,10,3))"
      ],
      "execution_count": null,
      "outputs": [
        {
          "output_type": "execute_result",
          "data": {
            "text/plain": [
              "(2, 5, 8)"
            ]
          },
          "metadata": {
            "tags": []
          },
          "execution_count": 74
        }
      ]
    },
    {
      "cell_type": "markdown",
      "metadata": {
        "id": "-jfR1t01AfRp"
      },
      "source": [
        "# `for` variable `in` iterable:"
      ]
    },
    {
      "cell_type": "code",
      "metadata": {
        "id": "ISyicTQCAfRq",
        "outputId": "9e07b042-ad65-45cb-9933-42527b0ee57c"
      },
      "source": [
        "for i in range(4):\n",
        "    print(i)"
      ],
      "execution_count": null,
      "outputs": [
        {
          "output_type": "stream",
          "text": [
            "0\n",
            "1\n",
            "2\n",
            "3\n"
          ],
          "name": "stdout"
        }
      ]
    },
    {
      "cell_type": "code",
      "metadata": {
        "id": "ImdWnx5EAfRq",
        "outputId": "8daaf351-5bc3-452e-9e1d-7e60f61e3d96"
      },
      "source": [
        "for i in 'hola':\n",
        "    print(i)"
      ],
      "execution_count": null,
      "outputs": [
        {
          "output_type": "stream",
          "text": [
            "h\n",
            "o\n",
            "l\n",
            "a\n"
          ],
          "name": "stdout"
        }
      ]
    },
    {
      "cell_type": "code",
      "metadata": {
        "id": "psr36T7pAfRr",
        "outputId": "7ae25df1-ddb5-4650-a408-53af17770ea5"
      },
      "source": [
        "for i in [8,4,7]:\n",
        "    print(i)"
      ],
      "execution_count": null,
      "outputs": [
        {
          "output_type": "stream",
          "text": [
            "8\n",
            "4\n",
            "7\n"
          ],
          "name": "stdout"
        }
      ]
    },
    {
      "cell_type": "code",
      "metadata": {
        "id": "E5HlrgmUAfRs",
        "outputId": "1520a9cc-eb92-4471-afeb-61635ae45a43"
      },
      "source": [
        "for i in [(3,4,5),[7,8,4],'hola']:\n",
        "    print(i)"
      ],
      "execution_count": null,
      "outputs": [
        {
          "output_type": "stream",
          "text": [
            "(3, 4, 5)\n",
            "[7, 8, 4]\n",
            "hola\n"
          ],
          "name": "stdout"
        }
      ]
    },
    {
      "cell_type": "code",
      "metadata": {
        "id": "Slh0wpp0AfRt",
        "outputId": "965c9a45-36f7-4eda-ebc2-6e487cceaa7a"
      },
      "source": [
        "for i in 'uno','dos','tres':\n",
        "    print(i)"
      ],
      "execution_count": null,
      "outputs": [
        {
          "output_type": "stream",
          "text": [
            "uno\n",
            "dos\n",
            "tres\n"
          ],
          "name": "stdout"
        }
      ]
    },
    {
      "cell_type": "markdown",
      "metadata": {
        "id": "lbxnYnK2AfRu"
      },
      "source": [
        "#  `open` `.readline` `close`\n",
        "Estas 3 instrucciones permiten leer las 'líneas' de un archivo y las pasa a una lista de `str`."
      ]
    },
    {
      "cell_type": "code",
      "metadata": {
        "id": "XNF45DuQAfRv",
        "outputId": "24647e5d-0433-4d86-d726-b6a7b8863677"
      },
      "source": [
        "archivo  = open('palabras500.csv', encoding=\"utf-8\")\n",
        "lineas = archivo.readlines()\n",
        "archivo.close()\n",
        "\n",
        "len(lineas)"
      ],
      "execution_count": null,
      "outputs": [
        {
          "output_type": "execute_result",
          "data": {
            "text/plain": [
              "500"
            ]
          },
          "metadata": {
            "tags": []
          },
          "execution_count": 80
        }
      ]
    },
    {
      "cell_type": "code",
      "metadata": {
        "id": "Bpcel5OzAfRv",
        "outputId": "83b6cb6d-cd85-451c-9742-1fc7cff6aea3"
      },
      "source": [
        "lineas[0]"
      ],
      "execution_count": null,
      "outputs": [
        {
          "output_type": "execute_result",
          "data": {
            "text/plain": [
              "'de\\n'"
            ]
          },
          "metadata": {
            "tags": []
          },
          "execution_count": 81
        }
      ]
    },
    {
      "cell_type": "code",
      "metadata": {
        "id": "JutfvNKwAfRv",
        "outputId": "a39804a4-d260-4802-e516-5769cc4d5e7a"
      },
      "source": [
        "lineas[1]"
      ],
      "execution_count": null,
      "outputs": [
        {
          "output_type": "execute_result",
          "data": {
            "text/plain": [
              "'la\\n'"
            ]
          },
          "metadata": {
            "tags": []
          },
          "execution_count": 82
        }
      ]
    },
    {
      "cell_type": "code",
      "metadata": {
        "id": "ZAIrAUUgAfRw",
        "outputId": "5f3d98bb-de51-4d68-ded5-e91d22615efd"
      },
      "source": [
        "lineas[499]"
      ],
      "execution_count": null,
      "outputs": [
        {
          "output_type": "execute_result",
          "data": {
            "text/plain": [
              "'serán\\n'"
            ]
          },
          "metadata": {
            "tags": []
          },
          "execution_count": 83
        }
      ]
    },
    {
      "cell_type": "code",
      "metadata": {
        "id": "L3B_fZS-AfRw",
        "outputId": "2286b71b-1b42-495c-f914-f3500b397ee0"
      },
      "source": [
        "palabra  = input('Escriba una palabra: ')\n",
        "if palabra+'\\n' in lineas:\n",
        "    print('Sí es de las 500 más comunes')\n",
        "else:\n",
        "    print('No es de las 500 más comunes')"
      ],
      "execution_count": null,
      "outputs": [
        {
          "output_type": "stream",
          "text": [
            "Escriba una palabra: aya\n",
            "No es de las 500 más comunes\n"
          ],
          "name": "stdout"
        }
      ]
    },
    {
      "cell_type": "markdown",
      "metadata": {
        "id": "-s4MhLraAfRw"
      },
      "source": [
        "# Reto\n",
        "Realice una función `rima` que encuentre las palabras que finalizan según el parámetro."
      ]
    },
    {
      "cell_type": "code",
      "metadata": {
        "id": "29Dr0YJBAfRw",
        "outputId": "2096cc80-37aa-4ba4-b608-467c4dd14449"
      },
      "source": [
        "lineas=[\"de\",\n",
        "\"la\",\n",
        "\"que\",\n",
        "\"el\",\n",
        "\"y\",\n",
        "\"en\",\n",
        "\"a\",\n",
        "\"los\",\n",
        "\"del\",\n",
        "\"se\",\n",
        "\"las\",\n",
        "\"por\",\n",
        "\"un\",\n",
        "\"con\",\n",
        "\"para\",\n",
        "\"no\",\n",
        "\"una\",\n",
        "\"es\",\n",
        "\"su\",\n",
        "\"al\",\n",
        "\"lo\",\n",
        "\"como\",\n",
        "\"más\",\n",
        "\"o\",\n",
        "\"este\",\n",
        "\"pero\",\n",
        "\"sus\",\n",
        "\"esta\",\n",
        "\"si\",\n",
        "\"ha\",\n",
        "\"me\",\n",
        "\"ya\",\n",
        "\"le\",\n",
        "\"son\",\n",
        "\"sobre\",\n",
        "\"entre\",\n",
        "\"ser\",\n",
        "\"fue\",\n",
        "\"sin\",\n",
        "\"todo\",\n",
        "\"también\",\n",
        "\"desde\",\n",
        "\"cuando\",\n",
        "\"muy\",\n",
        "\"a?os\",\n",
        "\"está\",\n",
        "\"todos\",\n",
        "\"hay\",\n",
        "\"tiene\",\n",
        "\"nos\",\n",
        "\"porque\",\n",
        "\"dos\",\n",
        "\"hasta\",\n",
        "\"donde\",\n",
        "\"parte\",\n",
        "\"así\",\n",
        "\"han\",\n",
        "\"puede\",\n",
        "\"mi\",\n",
        "\"a?o\",\n",
        "\"cada\",\n",
        "\"uno\",\n",
        "\"vez\",\n",
        "\"bien\",\n",
        "\"hace\",\n",
        "\"trabajo\",\n",
        "\"nacional\",\n",
        "\"estado\",\n",
        "\"otros\",\n",
        "\"gobierno\",\n",
        "\"eso\",\n",
        "\"tiempo\",\n",
        "\"además\",\n",
        "\"mismo\",\n",
        "\"ese\",\n",
        "\"hacer\",\n",
        "\"país\",\n",
        "\"yo\",\n",
        "\"durante\",\n",
        "\"te\",\n",
        "\"día\",\n",
        "\"tanto\",\n",
        "\"vida\",\n",
        "\"esto\",\n",
        "\"forma\",\n",
        "\"estos\",\n",
        "\"sólo\",\n",
        "\"personas\",\n",
        "\"ni\",\n",
        "\"otro\",\n",
        "\"ahora\",\n",
        "\"hoy\",\n",
        "\"era\",\n",
        "\"caso\",\n",
        "\"están\",\n",
        "\"les\",\n",
        "\"mejor\",\n",
        "\"lugar\",\n",
        "\"qué\",\n",
        "\"quien\",\n",
        "]\n",
        "\n",
        "lineas"
      ],
      "execution_count": null,
      "outputs": [
        {
          "output_type": "execute_result",
          "data": {
            "text/plain": [
              "['de',\n",
              " 'la',\n",
              " 'que',\n",
              " 'el',\n",
              " 'y',\n",
              " 'en',\n",
              " 'a',\n",
              " 'los',\n",
              " 'del',\n",
              " 'se',\n",
              " 'las',\n",
              " 'por',\n",
              " 'un',\n",
              " 'con',\n",
              " 'para',\n",
              " 'no',\n",
              " 'una',\n",
              " 'es',\n",
              " 'su',\n",
              " 'al',\n",
              " 'lo',\n",
              " 'como',\n",
              " 'más',\n",
              " 'o',\n",
              " 'este',\n",
              " 'pero',\n",
              " 'sus',\n",
              " 'esta',\n",
              " 'si',\n",
              " 'ha',\n",
              " 'me',\n",
              " 'ya',\n",
              " 'le',\n",
              " 'son',\n",
              " 'sobre',\n",
              " 'entre',\n",
              " 'ser',\n",
              " 'fue',\n",
              " 'sin',\n",
              " 'todo',\n",
              " 'también',\n",
              " 'desde',\n",
              " 'cuando',\n",
              " 'muy',\n",
              " 'a?os',\n",
              " 'está',\n",
              " 'todos',\n",
              " 'hay',\n",
              " 'tiene',\n",
              " 'nos',\n",
              " 'porque',\n",
              " 'dos',\n",
              " 'hasta',\n",
              " 'donde',\n",
              " 'parte',\n",
              " 'así',\n",
              " 'han',\n",
              " 'puede',\n",
              " 'mi',\n",
              " 'a?o',\n",
              " 'cada',\n",
              " 'uno',\n",
              " 'vez',\n",
              " 'bien',\n",
              " 'hace',\n",
              " 'trabajo',\n",
              " 'nacional',\n",
              " 'estado',\n",
              " 'otros',\n",
              " 'gobierno',\n",
              " 'eso',\n",
              " 'tiempo',\n",
              " 'además',\n",
              " 'mismo',\n",
              " 'ese',\n",
              " 'hacer',\n",
              " 'país',\n",
              " 'yo',\n",
              " 'durante',\n",
              " 'te',\n",
              " 'día',\n",
              " 'tanto',\n",
              " 'vida',\n",
              " 'esto',\n",
              " 'forma',\n",
              " 'estos',\n",
              " 'sólo',\n",
              " 'personas',\n",
              " 'ni',\n",
              " 'otro',\n",
              " 'ahora',\n",
              " 'hoy',\n",
              " 'era',\n",
              " 'caso',\n",
              " 'están',\n",
              " 'les',\n",
              " 'mejor',\n",
              " 'lugar',\n",
              " 'qué',\n",
              " 'quien']"
            ]
          },
          "metadata": {
            "tags": []
          },
          "execution_count": 127
        }
      ]
    },
    {
      "cell_type": "code",
      "metadata": {
        "id": "IXz0_dtDAfRy",
        "outputId": "8e21fd9d-d82a-4aca-fded-1fc9d62bb94c"
      },
      "source": [
        "rima('a')"
      ],
      "execution_count": null,
      "outputs": [
        {
          "output_type": "stream",
          "text": [
            "la\n",
            "a\n",
            "para\n",
            "una\n",
            "esta\n",
            "ha\n",
            "ya\n",
            "hasta\n",
            "cada\n",
            "día\n",
            "vida\n",
            "forma\n",
            "ahora\n",
            "era\n",
            "---\n"
          ],
          "name": "stdout"
        }
      ]
    },
    {
      "cell_type": "markdown",
      "metadata": {
        "id": "uDxSYxxEAfRz"
      },
      "source": [
        "# `type`\n",
        "`type` permite saber el tipo de una variable "
      ]
    },
    {
      "cell_type": "code",
      "metadata": {
        "id": "UZnybCQ1AfR0",
        "outputId": "e3abcf95-a15a-42f4-836d-61ddafaa060b"
      },
      "source": [
        "type(1.0)"
      ],
      "execution_count": null,
      "outputs": [
        {
          "output_type": "execute_result",
          "data": {
            "text/plain": [
              "float"
            ]
          },
          "metadata": {
            "tags": []
          },
          "execution_count": 90
        }
      ]
    },
    {
      "cell_type": "code",
      "metadata": {
        "id": "n8qH83UnAfR0",
        "outputId": "86f2ec31-dc77-4b56-937c-579f7a437c91"
      },
      "source": [
        "type(1)"
      ],
      "execution_count": null,
      "outputs": [
        {
          "output_type": "execute_result",
          "data": {
            "text/plain": [
              "int"
            ]
          },
          "metadata": {
            "tags": []
          },
          "execution_count": 91
        }
      ]
    },
    {
      "cell_type": "code",
      "metadata": {
        "id": "w7Ng1_6JAfR1",
        "outputId": "a722c61e-ad52-4bba-b945-974ec8083c76"
      },
      "source": [
        "type(True)"
      ],
      "execution_count": null,
      "outputs": [
        {
          "output_type": "execute_result",
          "data": {
            "text/plain": [
              "bool"
            ]
          },
          "metadata": {
            "tags": []
          },
          "execution_count": 92
        }
      ]
    },
    {
      "cell_type": "code",
      "metadata": {
        "id": "qy2PPmFQAfR2",
        "outputId": "ccc2cd5a-3592-4476-e2e6-a427029d1ad6"
      },
      "source": [
        "type((1.0, 1, True))"
      ],
      "execution_count": null,
      "outputs": [
        {
          "output_type": "execute_result",
          "data": {
            "text/plain": [
              "tuple"
            ]
          },
          "metadata": {
            "tags": []
          },
          "execution_count": 95
        }
      ]
    },
    {
      "cell_type": "code",
      "metadata": {
        "id": "YjcwMEA0AfR2",
        "outputId": "eccf878d-4592-4d69-c4d2-fe781781a8d3"
      },
      "source": [
        "type([1.0, 1, True])"
      ],
      "execution_count": null,
      "outputs": [
        {
          "output_type": "execute_result",
          "data": {
            "text/plain": [
              "list"
            ]
          },
          "metadata": {
            "tags": []
          },
          "execution_count": 96
        }
      ]
    },
    {
      "cell_type": "code",
      "metadata": {
        "id": "nvyIhinqAfR3",
        "outputId": "d6c2ab5f-13a3-4d3f-c78f-44b2e3865c86"
      },
      "source": [
        "type('Adivina mi tipo')"
      ],
      "execution_count": null,
      "outputs": [
        {
          "output_type": "execute_result",
          "data": {
            "text/plain": [
              "str"
            ]
          },
          "metadata": {
            "tags": []
          },
          "execution_count": 97
        }
      ]
    },
    {
      "cell_type": "code",
      "metadata": {
        "id": "MT0IvM7QAfR3",
        "outputId": "15da24ce-0a34-41a5-b343-8f01c672be32"
      },
      "source": [
        "type(max)"
      ],
      "execution_count": null,
      "outputs": [
        {
          "output_type": "execute_result",
          "data": {
            "text/plain": [
              "builtin_function_or_method"
            ]
          },
          "metadata": {
            "tags": []
          },
          "execution_count": 99
        }
      ]
    },
    {
      "cell_type": "code",
      "metadata": {
        "id": "zRyqpmKUAfR4",
        "outputId": "c1786b88-e2f8-4825-dad0-b8cee1819690"
      },
      "source": [
        "type(conv_automoviles_y_ciclas_en_ruedas)"
      ],
      "execution_count": null,
      "outputs": [
        {
          "output_type": "execute_result",
          "data": {
            "text/plain": [
              "function"
            ]
          },
          "metadata": {
            "tags": []
          },
          "execution_count": 100
        }
      ]
    },
    {
      "cell_type": "code",
      "metadata": {
        "id": "bHLa5K0hAfR4",
        "outputId": "879d5983-5e0c-468a-8056-8b919b217406"
      },
      "source": [
        "type(str)"
      ],
      "execution_count": null,
      "outputs": [
        {
          "output_type": "execute_result",
          "data": {
            "text/plain": [
              "type"
            ]
          },
          "metadata": {
            "tags": []
          },
          "execution_count": 101
        }
      ]
    },
    {
      "cell_type": "code",
      "metadata": {
        "id": "o9kYA314AfR5",
        "outputId": "11d3b9f8-828f-4e87-9569-3d024b2d91b7"
      },
      "source": [
        "a=5\n",
        "type(a)"
      ],
      "execution_count": null,
      "outputs": [
        {
          "output_type": "execute_result",
          "data": {
            "text/plain": [
              "int"
            ]
          },
          "metadata": {
            "tags": []
          },
          "execution_count": 118
        }
      ]
    },
    {
      "cell_type": "markdown",
      "metadata": {
        "id": "LQ2qDD_IAfR5"
      },
      "source": [
        "# `None`\n",
        "`None` es un objeto de Python que se usa cuando queremos indicar que nuestra variable no tiene ningún objeto válido. El tipo asociado es `NoneType`"
      ]
    },
    {
      "cell_type": "code",
      "metadata": {
        "id": "cqRI2F-rAfR6",
        "outputId": "b57b4f20-b6c3-4af9-b189-ee129a80fb46"
      },
      "source": [
        "type(None)"
      ],
      "execution_count": null,
      "outputs": [
        {
          "output_type": "execute_result",
          "data": {
            "text/plain": [
              "NoneType"
            ]
          },
          "metadata": {
            "tags": []
          },
          "execution_count": 89
        }
      ]
    },
    {
      "cell_type": "code",
      "metadata": {
        "id": "KTvjmuCGAfR6",
        "outputId": "8a9f0b0a-3ac8-496b-a353-d649da8a521c"
      },
      "source": [
        "bool(None)"
      ],
      "execution_count": null,
      "outputs": [
        {
          "output_type": "execute_result",
          "data": {
            "text/plain": [
              "False"
            ]
          },
          "metadata": {
            "tags": []
          },
          "execution_count": 110
        }
      ]
    },
    {
      "cell_type": "code",
      "metadata": {
        "id": "5PJ2avEQAfR7",
        "outputId": "cedc08ba-90ea-4955-8b48-30c04ecc16e9"
      },
      "source": [
        "int(None)"
      ],
      "execution_count": null,
      "outputs": [
        {
          "output_type": "error",
          "ename": "TypeError",
          "evalue": "int() argument must be a string, a bytes-like object or a number, not 'NoneType'",
          "traceback": [
            "\u001b[1;31m---------------------------------------------------------------------------\u001b[0m",
            "\u001b[1;31mTypeError\u001b[0m                                 Traceback (most recent call last)",
            "\u001b[1;32m<ipython-input-111-af2123a46eb2>\u001b[0m in \u001b[0;36m<module>\u001b[1;34m\u001b[0m\n\u001b[1;32m----> 1\u001b[1;33m \u001b[0mint\u001b[0m\u001b[1;33m(\u001b[0m\u001b[1;32mNone\u001b[0m\u001b[1;33m)\u001b[0m\u001b[1;33m\u001b[0m\u001b[1;33m\u001b[0m\u001b[0m\n\u001b[0m",
            "\u001b[1;31mTypeError\u001b[0m: int() argument must be a string, a bytes-like object or a number, not 'NoneType'"
          ]
        }
      ]
    },
    {
      "cell_type": "code",
      "metadata": {
        "id": "Q4e2aXeyAfR8",
        "outputId": "f1c04ab8-b841-44a2-aa72-abd47eeb4095"
      },
      "source": [
        "float(None)"
      ],
      "execution_count": null,
      "outputs": [
        {
          "output_type": "error",
          "ename": "TypeError",
          "evalue": "float() argument must be a string or a number, not 'NoneType'",
          "traceback": [
            "\u001b[1;31m---------------------------------------------------------------------------\u001b[0m",
            "\u001b[1;31mTypeError\u001b[0m                                 Traceback (most recent call last)",
            "\u001b[1;32m<ipython-input-113-b14d5e084cce>\u001b[0m in \u001b[0;36m<module>\u001b[1;34m\u001b[0m\n\u001b[1;32m----> 1\u001b[1;33m \u001b[0mfloat\u001b[0m\u001b[1;33m(\u001b[0m\u001b[1;32mNone\u001b[0m\u001b[1;33m)\u001b[0m\u001b[1;33m\u001b[0m\u001b[1;33m\u001b[0m\u001b[0m\n\u001b[0m",
            "\u001b[1;31mTypeError\u001b[0m: float() argument must be a string or a number, not 'NoneType'"
          ]
        }
      ]
    },
    {
      "cell_type": "code",
      "metadata": {
        "id": "6bIshvUxAfR8",
        "outputId": "cbe18dfb-823b-4571-fa47-31a014328cb7"
      },
      "source": [
        "str(None)"
      ],
      "execution_count": null,
      "outputs": [
        {
          "output_type": "execute_result",
          "data": {
            "text/plain": [
              "'None'"
            ]
          },
          "metadata": {
            "tags": []
          },
          "execution_count": 112
        }
      ]
    },
    {
      "cell_type": "markdown",
      "metadata": {
        "id": "UQquc04NAfR9"
      },
      "source": [
        "# `pass`\n",
        "Esta sentencia no realiza nada. Usualmente se usa durante el desarrollo de un programa, para indicar que un bloque está pendiente de realizar, y así evitar que se genere un error."
      ]
    },
    {
      "cell_type": "code",
      "metadata": {
        "id": "cfBacg5wAfR9"
      },
      "source": [
        "def pasos_para_vivir_sin_problemas(nombre):\n",
        "    pass\n",
        "\n",
        "pasos_para_vivir_sin_problemas('yo')"
      ],
      "execution_count": null,
      "outputs": []
    },
    {
      "cell_type": "code",
      "metadata": {
        "id": "Q-RGM8PfAfR-",
        "outputId": "4712d584-d04a-421e-c337-1019c026e453"
      },
      "source": [
        "def pasos_para_vivir_sin_problemas(nombre):\n",
        "\n",
        "pasos_para_vivir_sin_problemas('yo')"
      ],
      "execution_count": null,
      "outputs": [
        {
          "output_type": "error",
          "ename": "IndentationError",
          "evalue": "expected an indented block (<ipython-input-120-d34593c3a56c>, line 3)",
          "traceback": [
            "\u001b[1;36m  File \u001b[1;32m\"<ipython-input-120-d34593c3a56c>\"\u001b[1;36m, line \u001b[1;32m3\u001b[0m\n\u001b[1;33m    pasos_para_vivir_sin_problemas('yo')\u001b[0m\n\u001b[1;37m                                 ^\u001b[0m\n\u001b[1;31mIndentationError\u001b[0m\u001b[1;31m:\u001b[0m expected an indented block\n"
          ]
        }
      ]
    },
    {
      "cell_type": "code",
      "metadata": {
        "id": "S5oIhuIqAfR-"
      },
      "source": [
        ""
      ],
      "execution_count": null,
      "outputs": []
    },
    {
      "cell_type": "code",
      "metadata": {
        "id": "_ifMpxKdAfR-"
      },
      "source": [
        ""
      ],
      "execution_count": null,
      "outputs": []
    },
    {
      "cell_type": "code",
      "metadata": {
        "id": "gLWjUjd3AfR_"
      },
      "source": [
        ""
      ],
      "execution_count": null,
      "outputs": []
    },
    {
      "cell_type": "code",
      "metadata": {
        "id": "_4ZdvD4dAfR_"
      },
      "source": [
        ""
      ],
      "execution_count": null,
      "outputs": []
    },
    {
      "cell_type": "code",
      "metadata": {
        "id": "v1j67PEkAfR_"
      },
      "source": [
        ""
      ],
      "execution_count": null,
      "outputs": []
    },
    {
      "cell_type": "markdown",
      "metadata": {
        "id": "R7dqIy_aAfSA"
      },
      "source": [
        "# Reto 2\n",
        "Realice una función `promedio` que encuentre el promedio de una tupla o una lista "
      ]
    },
    {
      "cell_type": "markdown",
      "metadata": {
        "id": "QlJlEV9fAfSA"
      },
      "source": [
        "# Ejemplo de promedio\n",
        "A continuación, haremos dos ejemplos para calcular el promedio \n",
        "\n",
        "$promedio(v)= \\frac{1}{n} \\sum_{i=1}^n v_i$\n",
        "\n",
        "donde $\\vec{v}=\\left(\\matrix{v_1\\\\v_2\\\\ \\vdots \\\\v_n}\\right)$"
      ]
    },
    {
      "cell_type": "code",
      "metadata": {
        "id": "FOtRwj0MAfSB"
      },
      "source": [
        "def promedio_1(numeros):\n",
        "    acumulador = 0\n",
        "    for numero in numeros:\n",
        "        acumulador = acumulador + numero\n",
        "    return acumulador/len(numeros)"
      ],
      "execution_count": null,
      "outputs": []
    },
    {
      "cell_type": "code",
      "metadata": {
        "id": "hGJLPnOtAfSB",
        "outputId": "263984f2-1703-4dcb-da4d-ad83a84ccde9"
      },
      "source": [
        "u"
      ],
      "execution_count": null,
      "outputs": [
        {
          "output_type": "execute_result",
          "data": {
            "text/plain": [
              "[11, 88, 99, 44]"
            ]
          },
          "metadata": {
            "tags": []
          },
          "execution_count": 113
        }
      ]
    },
    {
      "cell_type": "code",
      "metadata": {
        "id": "Ez7Ct9XaAfSC",
        "outputId": "f9542434-4ab3-45db-9004-645e5909d75c"
      },
      "source": [
        "promedio_1(u)"
      ],
      "execution_count": null,
      "outputs": [
        {
          "output_type": "execute_result",
          "data": {
            "text/plain": [
              "60.5"
            ]
          },
          "metadata": {
            "tags": []
          },
          "execution_count": 108
        }
      ]
    },
    {
      "cell_type": "code",
      "metadata": {
        "id": "Q321uT-tAfSC",
        "outputId": "5474558d-ab5f-4296-cf86-b2cc3244cd51"
      },
      "source": [
        "v"
      ],
      "execution_count": null,
      "outputs": [
        {
          "output_type": "execute_result",
          "data": {
            "text/plain": [
              "(11, 22, 35, 44)"
            ]
          },
          "metadata": {
            "tags": []
          },
          "execution_count": 114
        }
      ]
    },
    {
      "cell_type": "code",
      "metadata": {
        "id": "Xi3gsVxbAfSD",
        "outputId": "263cbbe3-1c9c-442b-fa42-40df933f5fec"
      },
      "source": [
        "promedio_1(v)"
      ],
      "execution_count": null,
      "outputs": [
        {
          "output_type": "execute_result",
          "data": {
            "text/plain": [
              "28.0"
            ]
          },
          "metadata": {
            "tags": []
          },
          "execution_count": 109
        }
      ]
    },
    {
      "cell_type": "code",
      "metadata": {
        "id": "7svwC6ttAfSE"
      },
      "source": [
        "def promedio_2(numeros):\n",
        "    acumulador = 0\n",
        "    for i in range(len(numeros)):\n",
        "        acumulador = acumulador + numeros[i]\n",
        "    return acumulador/len(numeros)"
      ],
      "execution_count": null,
      "outputs": []
    },
    {
      "cell_type": "code",
      "metadata": {
        "id": "Ocs0md-dAfSE",
        "outputId": "1f43473f-7ce9-49f2-c4e6-b5dfe6f2609c"
      },
      "source": [
        "u"
      ],
      "execution_count": null,
      "outputs": [
        {
          "output_type": "execute_result",
          "data": {
            "text/plain": [
              "[11, 88, 99, 44]"
            ]
          },
          "metadata": {
            "tags": []
          },
          "execution_count": 115
        }
      ]
    },
    {
      "cell_type": "code",
      "metadata": {
        "id": "7wlqs_8eAfSF",
        "outputId": "81d9c663-9f09-4b3d-8f66-a7b965f8437b"
      },
      "source": [
        "promedio_2(u)"
      ],
      "execution_count": null,
      "outputs": [
        {
          "output_type": "execute_result",
          "data": {
            "text/plain": [
              "60.5"
            ]
          },
          "metadata": {
            "tags": []
          },
          "execution_count": 111
        }
      ]
    },
    {
      "cell_type": "code",
      "metadata": {
        "id": "vezAJAK8AfSF",
        "outputId": "1251c70b-acbb-40e3-dcce-2ab30ccacff6"
      },
      "source": [
        "v"
      ],
      "execution_count": null,
      "outputs": [
        {
          "output_type": "execute_result",
          "data": {
            "text/plain": [
              "(11, 22, 35, 44)"
            ]
          },
          "metadata": {
            "tags": []
          },
          "execution_count": 116
        }
      ]
    },
    {
      "cell_type": "code",
      "metadata": {
        "id": "SsdZfBAiAfSG",
        "outputId": "ad51bcab-4c21-4c7e-b7ff-237d7fdabcc9"
      },
      "source": [
        "promedio_2(v)"
      ],
      "execution_count": null,
      "outputs": [
        {
          "output_type": "execute_result",
          "data": {
            "text/plain": [
              "28.0"
            ]
          },
          "metadata": {
            "tags": []
          },
          "execution_count": 112
        }
      ]
    },
    {
      "cell_type": "code",
      "metadata": {
        "id": "qp0pZ6EPAfSG"
      },
      "source": [
        ""
      ],
      "execution_count": null,
      "outputs": []
    },
    {
      "cell_type": "code",
      "metadata": {
        "id": "AqB9DkOsAfSH"
      },
      "source": [
        ""
      ],
      "execution_count": null,
      "outputs": []
    }
  ]
}